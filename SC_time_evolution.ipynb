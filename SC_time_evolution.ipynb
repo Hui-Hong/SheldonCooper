{
  "nbformat": 4,
  "nbformat_minor": 0,
  "metadata": {
    "colab": {
      "provenance": []
    },
    "kernelspec": {
      "name": "python3",
      "display_name": "Python 3"
    },
    "language_info": {
      "name": "python"
    }
  },
  "cells": [
    {
      "cell_type": "code",
      "execution_count": 2,
      "metadata": {
        "id": "vLOZQOlh_8QH"
      },
      "outputs": [],
      "source": [
        "#time evolution for the Sheldon Cooper N Body Simulation\n",
        "\n",
        "import numpy as np\n",
        "import scipy\n",
        "import matplotlib.pyplot as plt\n",
        "# import pint"
      ]
    },
    {
      "cell_type": "code",
      "source": [
        "# Constants\n",
        "dt = 1  # Time step in years\n",
        "T = 100  # Total time in years\n",
        "steps = int(T / dt)  # Number of steps\n",
        "\n",
        "# Particle system dimensions\n",
        "n = 2  # Number of particles (for testing)\n",
        "r_i = np.ones((3, n))  # Initial position (3 coordinates for each particle)\n",
        "v_i = np.ones((3, n))  # Initial velocity (3 coordinates for each particle)\n",
        "a_i = np.ones((3, n))  # Initial acceleration (3 coordinates for each particle)\n",
        "\n",
        "\n",
        "\n",
        "# Evolve velocity function\n",
        "def evolve_velocity(v, a):\n",
        "    \"\"\"Evolves the velocity of each particle.\n",
        "    Each v_i and a_i is a 3xn numpy array representing x, y, z coordinates for n particles.\"\"\"\n",
        "    v_new = v + a * dt  # Update velocity using v = v0 + at\n",
        "    return v_new        # Return updated velocity\n",
        "\n",
        "# Evolve position function\n",
        "def evolve_position(r, v):\n",
        "    \"\"\"Evolves the position of each particle.\n",
        "    Each r_i and v_i is a 3xn numpy array representing x, y, z coordinates for n particles.\"\"\"\n",
        "    r_new = r + v * dt  # Update position using r = r0 + vt\n",
        "    return r_new        # Return updated position\n",
        "\n",
        "\n",
        "# Initialize a matrix to store positions, velocities, and accelerations over time\n",
        "matrix = np.empty((n, step, 3))   # Empty matrix of shape (n particles, steps, 3 coordinates)\n",
        "matrix[:, :, :] = arr_3x1.T       # Assuming arr_3x1 is predefined and is a 3x1 array for initialization\n",
        "\n",
        "# Duplicate matrix for velocity, acceleration, and position\n",
        "velocity = matrix.copy()                # Matrix to store velocity over time\n",
        "position = matrix.copy()                # Matrix to store position over time\n",
        "acceleration = matrix.copy()            # Matrix to store acceleration over time\n",
        "\n",
        "# Time evolution loop\n",
        "for s in range(step):   # Iterate through each time step\n",
        "  # Store current velocity, acceleration, and position for each particle at time step s\n",
        "  velocity[:,s,:] = v_i.T\n",
        "  acceleration[:,s,:] = a_i.T\n",
        "  position[:,s,:] = r_i.T\n",
        "\n",
        "  # Evolve velocity and position using the current state\n",
        "  v_temp = evolve_velocity(v_i,a_i)          # Update velocity\n",
        "  r_i = evolve_position(r_i,v_i)             # Update position based on the current velocity\n",
        "  v_i = v_temp                               # Update the velocity for the next iteration\n",
        "# a_i = force_func(mass,r_i)        # Update acceleration based on the forces\n",
        "\n",
        "\n"
      ],
      "metadata": {
        "id": "SzondDjQAwGl"
      },
      "execution_count": 19,
      "outputs": []
    },
    {
      "cell_type": "code",
      "source": [
        "#import scipy.integrate.quad as quad\n",
        "\n",
        "#quad(func,t_i,t_f)\n",
        "\n",
        " # Integrates 'func' over the interval [t_i, t_f]\n",
        "#quad(force_func(mass,positions),t_i,t_f) #output change in velocity a*dt\n",
        "\n",
        "\n",
        "#def evolve_velocity(v,a,mass):\n",
        " # \"\"\"evolves the velocity of each particle\n",
        "   #  each v_i and a_i is a 3x1 numpy array representing an x,y,z coordinate\"\"\"\n",
        " # v_new = v + quad(force_func(mass,positions)/mass,t_i,t_f)   # Only take the integral result\n",
        "  # v = v_new   # Return the updated velocity\n",
        " # return v_new\n",
        "\n",
        "#def evolve_position(r,v):\n",
        "#  r_new = r + quad(evolve_velocity())\n",
        "  # r = r_new\n",
        "#  return r_new\n",
        "\n",
        "#for\n",
        "\n"
      ],
      "metadata": {
        "id": "ftRgv3IFDBu0"
      },
      "execution_count": 21,
      "outputs": []
    }
  ]
}