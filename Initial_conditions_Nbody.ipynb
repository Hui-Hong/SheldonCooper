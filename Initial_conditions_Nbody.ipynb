{
  "cells": [
    {
      "cell_type": "code",
      "execution_count": 10,
      "metadata": {
        "colab": {
          "base_uri": "https://localhost:8080/"
        },
        "id": "qACPiq_-j7CO",
        "outputId": "80512898-5756-4a8a-9be2-8cc1f444ce8d"
      },
      "outputs": [
        {
          "name": "stdout",
          "output_type": "stream",
          "text": [
            "Requirement already satisfied: pint in /usr/local/lib/python3.10/dist-packages (0.24.3)\n",
            "Requirement already satisfied: appdirs>=1.4.4 in /usr/local/lib/python3.10/dist-packages (from pint) (1.4.4)\n",
            "Requirement already satisfied: typing-extensions in /usr/local/lib/python3.10/dist-packages (from pint) (4.12.2)\n",
            "Requirement already satisfied: flexcache>=0.3 in /usr/local/lib/python3.10/dist-packages (from pint) (0.3)\n",
            "Requirement already satisfied: flexparser>=0.3 in /usr/local/lib/python3.10/dist-packages (from pint) (0.3.1)\n"
          ]
        }
      ],
      "source": [
        "pip install pint"
      ]
    },
    {
      "cell_type": "markdown",
      "metadata": {
        "id": "G5rP0SbgoEF6"
      },
      "source": [
        "The system of units are assumed to be Kpc, M_sun, and year for distance, mass, and time, respectively."
      ]
    },
    {
      "cell_type": "code",
      "execution_count": 11,
      "metadata": {
        "id": "maqx-GinO3--"
      },
      "outputs": [],
      "source": [
        "import numpy as np\n",
        "from scipy.stats import truncnorm\n",
        "import matplotlib.pyplot as plt\n",
        "import pint\n",
        "ureg = pint.UnitRegistry()\n",
        "\n",
        "# Constants\n",
        "ureg.define('solar_mass = 1.98847e30 * kilogram')\n",
        "k_B = 1.380649e-23 *(ureg.J/ureg.K) # Boltzmann constant in J/K\n",
        "k_B = k_B.to(ureg. solar_mass*ureg. kpc**2/( ureg.year**2*ureg.K)) #Boltzman constant in our desirable units\n",
        "\n",
        "#generating the boundry size\n",
        "#This size also depends on the phase of galaxy formation,\n",
        "#but I tried to choose the aprroximate maximum possible size of a primordial galaxy formaing gas cloud\n",
        "boundary_size = 100*ureg.kpc\n",
        "\n",
        "#typical temperature in a primordial galaxy forming environment\n",
        "#This can vary between 10K to 10^7K depending on the phase of galaxy formation\n",
        "#Here we assume that we are still in the pre-collapse phase, so we have:\n",
        "T = 10*ureg.K\n",
        "\n",
        "#typical rotating speed in a primordial galaxy forming environment\n",
        "velocity_typical = 100*(ureg.km/ureg.s)\n",
        "velocity_typical = velocity_typical.to(ureg.kpc/ureg.year)"
      ]
    },
    {
      "cell_type": "markdown",
      "metadata": {
        "id": "NxhPoMxzQQ7j"
      },
      "source": [
        "##Two Body Problem, 2D\n",
        "In this case, it is very improbabile that any of these two particles go out of the boundries, so I leave this for the next part, which is the N-body problem.\n",
        "For two particles that rotate around each other, the initial locations and velocities will be as followed:"
      ]
    },
    {
      "cell_type": "code",
      "execution_count": 12,
      "metadata": {
        "id": "SUxOqW68O7Ly"
      },
      "outputs": [],
      "source": [
        "N =2 #number of particles\n",
        "M = np.ones ((N, 1)) ##generating the mass of particles,each particle has a mass equal to solar_mass\n",
        "v = np.zeros((N, 3)) #velocity of each particle in xyz coordinates\n",
        "xyz = np.zeros ((N, 3)) #location of each particle in xyz coordinates"
      ]
    },
    {
      "cell_type": "code",
      "execution_count": 13,
      "metadata": {
        "id": "hcmrj-_AG2Jc"
      },
      "outputs": [],
      "source": [
        " #Locations\n",
        "#coordinates xyz[:, 0] -> x, xyz[:, 1] -> y, xyz[:, 2] -> z\n",
        "# first particle\n",
        "xyz[0, 0] = boundary_size.magnitude/2\n",
        "xyz[0, 1] = 0\n",
        "xyz[0, 2] = 0\n",
        "\n",
        "#second particle\n",
        "xyz[1, 0] = -boundary_size.magnitude/2\n",
        "xyz[1, 1] = 0\n",
        "xyz[1, 2] = 0\n",
        "\n",
        "\n",
        "# v[:, 0] -> vx, v[:, 1] -> vy, v[:, 2] -> vz\n",
        "#first particle\n",
        "v[0, 0] = velocity_typical.magnitude #x\n",
        "v[0, 1] = velocity_typical.magnitude #y\n",
        "v[0, 2] = 0 #z\n",
        "\n",
        "#second particle\n",
        "v[1, 0] = -velocity_typical.magnitude #x\n",
        "v[1, 1] = -velocity_typical.magnitude #y\n",
        "v[1, 2] = 0 #z"
      ]
    },
    {
      "cell_type": "markdown",
      "metadata": {
        "id": "VdRlYho3Adkz"
      },
      "source": [
        "#N Body Problem, 3D\n",
        "In this case the boundries become important and we also need to define a distribution system for the initial locations and velocities.\n",
        "I have decided to use a Maxwell_Boltzman distribution for velocities."
      ]
    },
    {
      "cell_type": "code",
      "execution_count": 14,
      "metadata": {
        "id": "95NhZRIftmGb"
      },
      "outputs": [],
      "source": [
        "N =1000 #number of particles\n",
        "M = np.ones ((N, 1)) ##generating the mass of particles, each particle has a mass equal to solar_mass\n",
        "v = np.zeros((N, 3)) #velocity of each particle in xyz coordinates\n",
        "xyz = np.zeros ((N, 3)) #location of each particle in xyz coordinates"
      ]
    },
    {
      "cell_type": "code",
      "execution_count": 15,
      "metadata": {
        "id": "k7JS2lv3A7CX"
      },
      "outputs": [],
      "source": [
        "# Velocity dispersion (standard deviation of the velocity components)\n",
        "sigma_v = np.sqrt(k_B * T/ ureg.solar_mass)\n",
        "sigma_v = sigma_v.to(ureg.kpc/ureg.year)\n",
        "\n",
        "# Generate Maxwell-Boltzmann velocities for each particle\n",
        "velocities = np.random.normal(0, sigma_v.magnitude, (N, 3))"
      ]
    },
    {
      "cell_type": "markdown",
      "metadata": {
        "id": "W2nbaDRHx5tn"
      },
      "source": [
        "## Generate the initial position for particles"
      ]
    },
    {
      "cell_type": "code",
      "execution_count": 16,
      "metadata": {
        "colab": {
          "base_uri": "https://localhost:8080/",
          "height": 718
        },
        "id": "sfGn5_Hwx99c",
        "outputId": "0cfdbbeb-a529-4925-fa4e-9bda0dd71202"
      },
      "outputs": [
        {
          "data": {
            "image/png": "[encoded data removed]",
            "text/plain": [
              "<Figure size 800x800 with 1 Axes>"
            ]
          },
          "metadata": {},
          "output_type": "display_data"
        }
      ],
      "source": [
        "def position_ini(N, bound, mu, sigma):\n",
        "  bound = bound.to('kpc').magnitude\n",
        "  a = 0 # lower truncated bound\n",
        "  b = (bound - mu) / sigma #upper truncated bound\n",
        "  x = truncnorm.rvs(a,b, loc=mu, scale=sigma, size=N)\n",
        "  y = truncnorm.rvs(a,b, loc=mu, scale=sigma, size=N)\n",
        "  z = truncnorm.rvs(a,b, loc=mu, scale=sigma, size=N)\n",
        "  pos = np.column_stack((x, y, z))\n",
        "  return pos\n",
        "\n",
        "positions = position_ini(N=1000, bound = boundary_size, mu = 50, sigma = 50)  #boundary_size = boundary_size.to('kpc').magnitude\n",
        "positions = positions * ureg.kiloparsec\n",
        "\n",
        "## make plot and check the initial position\n",
        "plt.figure(figsize=(8, 8))\n",
        "plt.scatter(positions[:, 0], positions[:, 1], alpha=0.6, s=5)\n",
        "plt.xlabel(\"X\")\n",
        "plt.ylabel(\"Y\")\n",
        "plt.title(\"2D Projection of Particles in the X-Y Plane\")\n",
        "plt.show()\n",
        "\n"
      ]
    },
    {
      "cell_type": "markdown",
      "metadata": {
        "id": "tdFmdOsS_bl_"
      },
      "source": [
        "## Store the information in a class"
      ]
    },
    {
      "cell_type": "code",
      "execution_count": 17,
      "metadata": {
        "colab": {
          "base_uri": "https://localhost:8080/"
        },
        "id": "9VRX3WH3_ppB",
        "outputId": "892f721c-4735-40e6-e7e8-d5a1cc558720"
      },
      "outputs": [
        {
          "name": "stdout",
          "output_type": "stream",
          "text": [
            "[99.55626292187347 70.88663481523194 88.57049650758374] kiloparsec\n",
            "[ 1.43380233e-39 -5.14749044e-39  2.70997175e-39]\n",
            "[1.]\n"
          ]
        }
      ],
      "source": [
        "class Particles:\n",
        "    def __init__(self, position, velocity, mass):\n",
        "        self.position = position\n",
        "        self.velocity = velocity\n",
        "        self.mass = mass\n",
        "    def __getitem__(self, index):\n",
        "        return {\n",
        "            'position': self.position[index],\n",
        "            'velocity': self.velocity[index],\n",
        "            'mass': self.mass[index] if not np.isscalar(self.mass) else self.mass\n",
        "        }\n",
        "\n",
        "particles = Particles(positions, velocities, M)\n",
        "\n",
        "print(particles[1]['position'])\n",
        "print(particles[1]['velocity'])\n",
        "print(particles[1]['mass'])"
      ]
    },
    {
      "cell_type": "markdown",
      "metadata": {
        "id": "5wTcZ-LwwmoP"
      },
      "source": [
        "##Defining the boundry conditions (\"the box\")"
      ]
    },
    {
      "cell_type": "code",
      "execution_count": 18,
      "metadata": {
        "id": "mHvly-zIws9p"
      },
      "outputs": [],
      "source": [
        "def boundary_cond(particles):\n",
        "   #reverse if out-of-bound\n",
        "    particles_in = [] #inside the boundary\n",
        "    boundary_size = 100\n",
        "    for particle in particles:\n",
        "        pos_1 = particle.position.to('kpc').magnitude  #change the unit scale\n",
        "        if np.all(np.abs(pos_1) < boundary_size / 2):\n",
        "            particles_in.append(particle)\n",
        "        else:\n",
        "            particle.velocity *= -1\n",
        "\n",
        "    particles = particles_in"
      ]
    }
  ],
  "metadata": {
    "colab": {
      "provenance": []
    },
    "kernelspec": {
      "display_name": "Python 3",
      "name": "python3"
    },
    "language_info": {
      "name": "python"
    }
  },
  "nbformat": 4,
  "nbformat_minor": 0
}
