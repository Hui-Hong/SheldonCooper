{
  "nbformat": 4,
  "nbformat_minor": 0,
  "metadata": {
    "colab": {
      "provenance": []
    },
    "kernelspec": {
      "name": "python3",
      "display_name": "Python 3"
    },
    "language_info": {
      "name": "python"
    }
  },
  "cells": [
    {
      "cell_type": "code",
      "source": [
        "import numpy as np\n",
        "\n",
        "# Constants\n",
        "G = 6.67430e-11  # Gravitational constant (m^3 kg^-1 s^-2)\n",
        "M_sun = 1.989e30  # Mass of the sun (kg)\n",
        "\n",
        "class Particle:\n",
        "    \"\"\"A class representing a single particle in the simulation.\"\"\"\n",
        "\n",
        "    def __init__(self, mass, position, velocity):\n",
        "        self.mass = mass\n",
        "        self.position = np.array(position)\n",
        "        self.velocity = np.array(velocity)\n",
        "        self.force = np.zeros(3)\n",
        "\n",
        "    def update_force(self, force):\n",
        "        self.force += force\n",
        "\n",
        "    def reset_force(self):\n",
        "        self.force = np.zeros(3)\n",
        "\n",
        "    def update_position(self, dt):\n",
        "        self.velocity += self.force / self.mass * dt\n",
        "        self.position += self.velocity * dt\n",
        "\n",
        "\n",
        "class NBodySimulation:\n",
        "    \"\"\"A class to handle the N-body simulation.\"\"\"\n",
        "\n",
        "    def __init__(self, N, boundary_size, time_step):\n",
        "        self.N = N\n",
        "        self.boundary_size = boundary_size\n",
        "        self.dt = time_step\n",
        "\n",
        "        # Initialize particles with random positions and velocities\n",
        "        self.particles = [\n",
        "            Particle(M_sun,\n",
        "                     position=np.random.uniform(-boundary_size/2, boundary_size/2, 3),\n",
        "                     velocity=np.random.randn(3) * 1e4)  # Random initial velocity\n",
        "            for _ in range(N)\n",
        "        ]\n",
        "\n",
        "    def compute_gravitational_force(self):\n",
        "        \"\"\"Compute gravitational forces between particles.\"\"\"\n",
        "        for particle in self.particles:\n",
        "            particle.reset_force()  # Reset forces at the start of each step\n",
        "\n",
        "        for i in range(self.N):\n",
        "            for j in range(i + 1, self.N):\n",
        "                # Compute the gravitational force between particle i and j\n",
        "                displacement = self.particles[j].position - self.particles[i].position\n",
        "                distance = np.linalg.norm(displacement)\n",
        "\n",
        "                if distance > 0:  # Avoid division by zero\n",
        "                    force_magnitude = G * self.particles[i].mass * self.particles[j].mass / distance**2\n",
        "                    force_direction = displacement / distance\n",
        "                    force = force_magnitude * force_direction\n",
        "\n",
        "                    self.particles[i].update_force(force)\n",
        "                    self.particles[j].update_force(-force)  # Newton's third law\n",
        "\n",
        "\n",
        "    def apply_boundary_conditions(self):\n",
        "        inside_boundary_particles = []\n",
        "        for particle in self.particles:\n",
        "            # Check if the particle is inside the boundary\n",
        "            if np.all(np.abs(particle.position) < self.boundary_size / 2):\n",
        "                inside_boundary_particles.append(particle)\n",
        "            else:\n",
        "                # Reverse\n",
        "                particle.velocity *= -1\n",
        "\n",
        "        self.particles = inside_boundary_particles\n",
        "        self.N = len(self.particles)\n",
        "\n",
        "    def update_particles(self):\n",
        "        \"\"\"Update positions and velocities of particles.\"\"\"\n",
        "        for particle in self.particles:\n",
        "            particle.update_position(self.dt)\n",
        "\n",
        "    def run_simulation(self, steps):\n",
        "        \"\"\"Run the simulation for a certain number of steps.\"\"\"\n",
        "        for step in range(steps):\n",
        "            self.compute_gravitational_force()\n",
        "            self.update_particles()\n",
        "            self.apply_boundary_conditions()\n",
        "\n",
        "            if self.N == 0:\n",
        "                print(f\"All particles have exited the boundary. Stopping simulation at step {step}.\")\n",
        "                break\n",
        "\n",
        "            print(f\"Step {step}, remaining particles: {self.N}\")\n",
        "\n",
        "# Initialize and run the simulation\n",
        "N = 100  # Number of particles\n",
        "boundary_size = 1e21  # Size of the simulation box (meters)\n",
        "time_step = 1e13  # Time step (seconds)\n",
        "\n",
        "# Create the simulation\n",
        "simulation = NBodySimulation(N, boundary_size, time_step)\n",
        "\n",
        "# Run the simulation for 1000 steps\n",
        "simulation.run_simulation(steps=1000)\n"
      ],
      "metadata": {
        "id": "lIFVGaWFf6Aa"
      },
      "execution_count": null,
      "outputs": []
    },
    {
      "cell_type": "code",
      "source": [
        "import numpy as np\n",
        "\n",
        "# Constants\n",
        "G = 6.67430e-11  # Gravitational constant (m^3 kg^-1 s^-2)\n",
        "M_sun = 1.989e30  # Mass of the sun (kg)\n",
        "N = 2 #number of particles in the simulation"
      ],
      "metadata": {
        "id": "maqx-GinO3--"
      },
      "execution_count": null,
      "outputs": []
    },
    {
      "cell_type": "code",
      "source": [
        "m = M_sun* np.ones((N)) #mass of the particles\n",
        "v = np.zeros((N, 3)) #velocity of each particle in xyz coordinates\n",
        "c = np.zeros ((N, 3)) #location of each particle in xyz coordinates"
      ],
      "metadata": {
        "id": "SUxOqW68O7Ly"
      },
      "execution_count": null,
      "outputs": []
    },
    {
      "cell_type": "markdown",
      "source": [
        "##Two Body Problem, 2D\n",
        "In this case, it is very improbabile that any of these two particles go out of the boundries, so I leave this for the next part, which is the N-body problem.\n",
        "For the two particles that will rotate around each other"
      ],
      "metadata": {
        "id": "NxhPoMxzQQ7j"
      }
    },
    {
      "cell_type": "code",
      "execution_count": null,
      "metadata": {
        "id": "hcmrj-_AG2Jc"
      },
      "outputs": [],
      "source": [
        "#This is an example for the initial velocities of two particles that will rotate around each other (2D).\n",
        "\n",
        "#v [2, 3]\n",
        "v_abs = 2 #absolute value of the velocity\n",
        "#first particle\n",
        "v[0, 0] = v_abs#x\n",
        "v[0, 1] = v_abs #y\n",
        "v[0, 2] = 0 #z\n",
        "\n",
        "#second particle\n",
        "v[1, 0] = -v_abs#x\n",
        "v[1, 1] = -v_abs #y\n",
        "v[1, 2] = 0 #z"
      ]
    }
  ]
}